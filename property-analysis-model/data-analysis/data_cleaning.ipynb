{
 "cells": [
  {
   "cell_type": "code",
   "execution_count": null,
   "id": "688840f7",
   "metadata": {},
   "outputs": [],
   "source": [
    "from openai import OpenAI\n",
    "import json\n",
    "import pandas as pd"
   ]
  },
  {
   "cell_type": "code",
   "execution_count": null,
   "id": "ec103b95",
   "metadata": {},
   "outputs": [],
   "source": [
    "# Load the JSON file\n",
    "with open('../data/raw_appraisals_dataset.json', 'r') as f:\n",
    "    data = json.load(f)"
   ]
  },
  {
   "cell_type": "code",
   "execution_count": null,
   "id": "59e4548f",
   "metadata": {},
   "outputs": [],
   "source": [
    "subjects = pd.DataFrame([a['subject'] for a in data['appraisals']])\n",
    "print(subjects.head())"
   ]
  }
 ],
 "metadata": {
  "kernelspec": {
   "display_name": "3.13.3",
   "language": "python",
   "name": "python3"
  },
  "language_info": {
   "codemirror_mode": {
    "name": "ipython",
    "version": 3
   },
   "file_extension": ".py",
   "mimetype": "text/x-python",
   "name": "python",
   "nbconvert_exporter": "python",
   "pygments_lexer": "ipython3",
   "version": "3.13.3"
  }
 },
 "nbformat": 4,
 "nbformat_minor": 5
}
